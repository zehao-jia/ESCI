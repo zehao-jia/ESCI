{
 "cells": [
  {
   "cell_type": "markdown",
   "id": "49d97bbd",
   "metadata": {},
   "source": [
    "# 张量形状操作\n",
    "- 简介:\n",
    "- reshape:改变张量形状\n",
    "- transpose和permute:改变维度的排列\n",
    "- view:改变张量形状,但仅限于单块内存\n",
    "- squeeze和unsqueeze:前者删除为1维度,后者在指定位置增加大小为1的维度\n",
    "## 1.reshape"
   ]
  },
  {
   "cell_type": "code",
   "execution_count": 2,
   "id": "3860bc5d",
   "metadata": {},
   "outputs": [],
   "source": [
    "import torch"
   ]
  },
  {
   "cell_type": "code",
   "execution_count": 2,
   "id": "1fd17b0b",
   "metadata": {},
   "outputs": [
    {
     "name": "stdout",
     "output_type": "stream",
     "text": [
      "tensor([[ 0,  1,  2,  3],\n",
      "        [ 4,  5,  6,  7],\n",
      "        [ 8,  9, 10, 11]])\n"
     ]
    }
   ],
   "source": [
    "def test1():# reshape\n",
    "    a = torch.arange(12)\n",
    "    a = a.reshape(3,4)\n",
    "    print(a)\n",
    "\n",
    "test1()"
   ]
  },
  {
   "cell_type": "markdown",
   "id": "cf953b26",
   "metadata": {},
   "source": [
    "## transpose 和 permute"
   ]
  },
  {
   "cell_type": "code",
   "execution_count": null,
   "id": "92068d42",
   "metadata": {},
   "outputs": [],
   "source": [
    "def test2():# transpose\n",
    "    a = torch.arange(12).reshape(3,4)\n",
    "    print(a)\n",
    "    b = a.transpose(0,1)# 交换0维和1维\n",
    "    print(b)\n",
    "\n",
    "test2()"
   ]
  },
  {
   "cell_type": "code",
   "execution_count": null,
   "id": "5e84ca8e",
   "metadata": {},
   "outputs": [
    {
     "name": "stdout",
     "output_type": "stream",
     "text": [
      "torch.Size([2, 3, 4])\n",
      "torch.Size([4, 2, 3])\n"
     ]
    }
   ],
   "source": [
    "def test3():# permute\n",
    "    a = torch.arange(24).reshape(2,3,4)\n",
    "    print(a.shape)\n",
    "    b = a.permute(2,0,1)# 012维变为201维\n",
    "    print(b.shape) \n",
    "\n",
    "test3()"
   ]
  },
  {
   "cell_type": "markdown",
   "id": "1ac566f9",
   "metadata": {},
   "source": [
    "## view 和 contigous"
   ]
  },
  {
   "cell_type": "code",
   "execution_count": 3,
   "id": "1652ec8f",
   "metadata": {},
   "outputs": [
    {
     "name": "stdout",
     "output_type": "stream",
     "text": [
      "True\n"
     ]
    }
   ],
   "source": [
    "def test4():# view and contigous\n",
    "    data = torch.arange(12)\n",
    "    a = data.view(3,4)\n",
    "    print(a.is_contiguous())\n",
    "    a.is_contiguous()#使张量连续\n",
    "\n",
    "test4( )\n"
   ]
  },
  {
   "cell_type": "markdown",
   "id": "c3f3955b",
   "metadata": {},
   "source": [
    "## squeeze 和 unsqueeze\n"
   ]
  },
  {
   "cell_type": "code",
   "execution_count": 5,
   "id": "ac20fc4f",
   "metadata": {},
   "outputs": [
    {
     "name": "stdout",
     "output_type": "stream",
     "text": [
      "torch.Size([1, 3, 4])\n",
      "torch.Size([3, 4])\n",
      "torch.Size([1, 3, 4])\n"
     ]
    }
   ],
   "source": [
    "'''\n",
    "squeeze:删除大小为1的维度\n",
    "unsqueeze:增加大小为1的维度\n",
    "'''\n",
    "def test5():\n",
    "    a = torch.arange(12).reshape(1,3,4)\n",
    "    print(a.shape)\n",
    "    b = a.squeeze()\n",
    "    print(b.shape)\n",
    "    c = b.unsqueeze(0)\n",
    "    print(c.shape)\n",
    "\n",
    "test5()"
   ]
  }
 ],
 "metadata": {
  "kernelspec": {
   "display_name": "deeplearning",
   "language": "python",
   "name": "python3"
  },
  "language_info": {
   "codemirror_mode": {
    "name": "ipython",
    "version": 3
   },
   "file_extension": ".py",
   "mimetype": "text/x-python",
   "name": "python",
   "nbconvert_exporter": "python",
   "pygments_lexer": "ipython3",
   "version": "3.12.9"
  }
 },
 "nbformat": 4,
 "nbformat_minor": 5
}
