{
 "cells": [
  {
   "cell_type": "markdown",
   "id": "5fb7a9e1",
   "metadata": {},
   "source": [
    "# 自动微分模块"
   ]
  },
  {
   "cell_type": "code",
   "execution_count": 1,
   "id": "8b4a4826",
   "metadata": {},
   "outputs": [],
   "source": [
    "import torch"
   ]
  },
  {
   "cell_type": "code",
   "execution_count": 2,
   "id": "b352b91b",
   "metadata": {},
   "outputs": [
    {
     "name": "stdout",
     "output_type": "stream",
     "text": [
      "tensor(22.)\n"
     ]
    }
   ],
   "source": [
    "def test1():#标量的梯度计算\n",
    "\n",
    "    x = torch.tensor(10, requires_grad=True, dtype=torch.float32)\n",
    "    \n",
    "    f = x**2 + 2*x + 1\n",
    "    f.backward()#自动计算梯度\n",
    "    print(x.grad)#打印梯度\n",
    "\n",
    "test1()\n"
   ]
  },
  {
   "cell_type": "code",
   "execution_count": null,
   "id": "fd15042f",
   "metadata": {},
   "outputs": [
    {
     "name": "stdout",
     "output_type": "stream",
     "text": [
      "tensor([ 7., 11., 15.])\n"
     ]
    }
   ],
   "source": [
    "def test2():#向量的梯度计算\n",
    "    x = torch.tensor([1,2,3], requires_grad=True, dtype=torch.float32)\n",
    "    f = 2*x**2 + 3*x + 4\n",
    "    f.sum().backward()#自动微分时需要将向量变为标量\n",
    "    print(x.grad)\n",
    "\n",
    "test2()"
   ]
  },
  {
   "cell_type": "code",
   "execution_count": 5,
   "id": "9ede36fc",
   "metadata": {},
   "outputs": [
    {
     "name": "stdout",
     "output_type": "stream",
     "text": [
      "tensor(4.)\n",
      "tensor(13.)\n"
     ]
    }
   ],
   "source": [
    "def test3():# 多标量梯度计算\n",
    "    x1 = torch.tensor(1.0, requires_grad=True)\n",
    "    x2 = torch.tensor(2.0, requires_grad=True)\n",
    "\n",
    "    y1 = x1**2 + x2**3 + x1*x2\n",
    "\n",
    "    y1.backward()#默认只计算y1的梯度\n",
    "    print(x1.grad)\n",
    "    print(x2.grad)\n",
    "\n",
    "test3()\n"
   ]
  },
  {
   "cell_type": "code",
   "execution_count": 7,
   "id": "3f2dee05",
   "metadata": {},
   "outputs": [
    {
     "name": "stdout",
     "output_type": "stream",
     "text": [
      "tensor([5., 8.])\n",
      "tensor([28., 50.])\n"
     ]
    }
   ],
   "source": [
    "def test4():# 多向量梯度计算\n",
    "    x1 = torch.tensor([1.0,2.0], requires_grad=True)\n",
    "    x2 = torch.tensor([3.0,4.0], requires_grad=True)\n",
    "\n",
    "    y1 = x1**2 + x2**3 + x1*x2\n",
    "\n",
    "    y1.sum().backward()#默认只计算y1的梯度\n",
    "    print(x1.grad)\n",
    "    print(x2.grad)\n",
    "\n",
    "test4( )"
   ]
  },
  {
   "cell_type": "markdown",
   "id": "323f0caa",
   "metadata": {},
   "source": [
    "# 控制梯度计算"
   ]
  },
  {
   "cell_type": "code",
   "execution_count": 3,
   "id": "161f502d",
   "metadata": {},
   "outputs": [
    {
     "name": "stdout",
     "output_type": "stream",
     "text": [
      "False\n",
      "tensor(4.)\n",
      "False\n"
     ]
    }
   ],
   "source": [
    "def test5():\n",
    "    x = torch.tensor(2.0, requires_grad=True)\n",
    "    y = x**2\n",
    "\n",
    "    #在不需要梯度计算的代码块中\n",
    "    with torch.no_grad():\n",
    "        z = y**3\n",
    "    print(z.requires_grad)#False\n",
    "\n",
    "    y.backward()#只计算y对x的梯度\n",
    "    print(x.grad)\n",
    "\n",
    "test5()\n",
    "\n",
    "@torch.no_grad()#装饰器，表示该函数不需要梯度计算\n",
    "def test6(x):\n",
    "    return x**2 + 2*x + 1\n",
    "\n",
    "y = test6(torch.tensor(2.0, requires_grad=True))\n",
    "print(y.requires_grad)#False\n",
    "    "
   ]
  },
  {
   "cell_type": "markdown",
   "id": "bd753421",
   "metadata": {},
   "source": [
    "# 累计梯度和梯度清零"
   ]
  },
  {
   "cell_type": "code",
   "execution_count": 10,
   "id": "e1a342e9",
   "metadata": {},
   "outputs": [
    {
     "name": "stdout",
     "output_type": "stream",
     "text": [
      "tensor([ 3.3333,  6.6667, 10.0000])\n",
      "tensor([ 6.6667, 13.3333, 20.0000])\n",
      "tensor([10., 20., 30.])\n"
     ]
    }
   ],
   "source": [
    "def test7():# 累计梯度和梯度清零\n",
    "    x = torch.tensor([5, 10, 15], requires_grad=True, dtype=torch.float32)\n",
    "    for i in range(3):\n",
    "        y = x**2\n",
    "        y1 = y.mean()#计算均值的梯度\n",
    "        y1.backward()\n",
    "        print(x.grad)\n",
    "        \n",
    "test7()"
   ]
  },
  {
   "cell_type": "markdown",
   "id": "6154d8f8",
   "metadata": {},
   "source": [
    "# 梯度下降"
   ]
  },
  {
   "cell_type": "code",
   "execution_count": 13,
   "id": "b8a6ab6e",
   "metadata": {},
   "outputs": [
    {
     "name": "stdout",
     "output_type": "stream",
     "text": [
      "epoch 0: x=4.0, y=25.0\n",
      "epoch 1: x=3.200000047683716, y=16.0\n",
      "epoch 2: x=2.559999942779541, y=10.24000072479248\n",
      "epoch 3: x=2.047999858856201, y=6.553599834442139\n",
      "epoch 4: x=1.6383998394012451, y=4.194303512573242\n",
      "epoch 5: x=1.3107198476791382, y=2.684354066848755\n",
      "epoch 6: x=1.0485758781433105, y=1.7179864645004272\n",
      "epoch 7: x=0.8388606905937195, y=1.0995113849639893\n",
      "epoch 8: x=0.6710885763168335, y=0.7036872506141663\n",
      "epoch 9: x=0.5368708372116089, y=0.45035988092422485\n"
     ]
    }
   ],
   "source": [
    "def test8():\n",
    "    # y = x**2\n",
    "    x = torch.tensor(5, dtype=torch.float32, requires_grad=True )\n",
    "    learning_rate = 0.1\n",
    "    for i in range(10):\n",
    "        y = x**2\n",
    "        y.backward()\n",
    "        with torch.no_grad():#不需要梯度计算\n",
    "            x -= learning_rate * x.grad#梯度下降\n",
    "            x.grad.zero_()#梯度清零\n",
    "            print(f'epoch {i}: x={x}, y={y}')\n",
    "\n",
    "test8()"
   ]
  },
  {
   "cell_type": "markdown",
   "id": "849e9322",
   "metadata": {},
   "source": [
    "# 梯度计算注意\n",
    "- 设置为requires_grad = True的张量无法转换为numpy,需要先用detach函数将张量分离,再使用numpy函数"
   ]
  },
  {
   "cell_type": "code",
   "execution_count": null,
   "id": "f5b96e5f",
   "metadata": {},
   "outputs": [
    {
     "name": "stdout",
     "output_type": "stream",
     "text": [
      "[1. 2. 3.]\n"
     ]
    }
   ],
   "source": [
    "def test9():\n",
    "    # 设置为requires_grad = True的张量无法转换为numpy,需要先用detach函数将张量分离,再使用numpy函数\n",
    "    x = torch.tensor([1.0, 2.0, 3.0], requires_grad=True)\n",
    "    '''\n",
    "    detach生成的张量和原张量共享内存,但不需要梯度计算\n",
    "    '''\n",
    "    print(x.detach().numpy())#正确\n",
    "test9()"
   ]
  }
 ],
 "metadata": {
  "kernelspec": {
   "display_name": "deeplearning",
   "language": "python",
   "name": "python3"
  },
  "language_info": {
   "codemirror_mode": {
    "name": "ipython",
    "version": 3
   },
   "file_extension": ".py",
   "mimetype": "text/x-python",
   "name": "python",
   "nbconvert_exporter": "python",
   "pygments_lexer": "ipython3",
   "version": "3.12.9"
  }
 },
 "nbformat": 4,
 "nbformat_minor": 5
}
