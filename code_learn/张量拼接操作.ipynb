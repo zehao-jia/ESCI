{
 "cells": [
  {
   "cell_type": "markdown",
   "id": "cfa71c0b",
   "metadata": {},
   "source": [
    "# 张量拼接操作\n",
    "## 1.torch.cat函数的使用"
   ]
  },
  {
   "cell_type": "code",
   "execution_count": null,
   "id": "4487c608",
   "metadata": {},
   "outputs": [
    {
     "name": "stdout",
     "output_type": "stream",
     "text": [
      "torch.Size([2, 3])\n",
      "torch.Size([2, 3])\n",
      "torch.Size([4, 3])\n",
      "tensor([[ 1,  2,  3,  7,  8,  9],\n",
      "        [ 4,  5,  6, 10, 11, 12]])\n"
     ]
    }
   ],
   "source": [
    "import torch\n",
    "\n",
    "def test1():\n",
    "    a = torch.tensor([[1, 2, 3], [4, 5, 6]])\n",
    "    b = torch.tensor([[7, 8, 9], [10, 11, 12]])\n",
    "    c = torch.cat([a, b], dim=0)  # 在第0维进行拼接\n",
    "    d = torch.cat([a, b], dim=1)  # 在第1维进行拼接\n",
    "    print(a.shape)\n",
    "    print(b.shape)\n",
    "    print(c.shape)\n",
    "    print(d.shape)\n",
    "test1()"
   ]
  },
  {
   "cell_type": "markdown",
   "id": "254dfdfa",
   "metadata": {},
   "source": [
    "## 2.torch.stack 函数的使用"
   ]
  },
  {
   "cell_type": "code",
   "execution_count": null,
   "id": "37e57eaa",
   "metadata": {},
   "outputs": [
    {
     "name": "stdout",
     "output_type": "stream",
     "text": [
      "torch.Size([2, 3])\n",
      "torch.Size([2, 3])\n",
      "torch.Size([2, 2, 3])\n",
      "torch.Size([2, 2, 3])\n"
     ]
    }
   ],
   "source": [
    "def test2():    \n",
    "    a = torch.tensor([[1, 2, 3], [4, 5, 6]])\n",
    "    b = torch.tensor([[7, 8, 9], [10, 11, 12]])\n",
    "    c = torch.stack([a, b], dim=0)  # 在第0维进行拼接\n",
    "    d = torch.stack([a, b], dim=1)  # 在第1维进行拼接\n",
    "    print(a.shape)\n",
    "    print(b.shape)\n",
    "    print(c.shape)\n",
    "    print(d.shape)\n",
    "'''\n",
    "stack的两种拼接方式生成相同形状的张量,但是拼接的方法不同\n",
    "'''\n",
    "test2()"
   ]
  }
 ],
 "metadata": {
  "kernelspec": {
   "display_name": "deeplearning",
   "language": "python",
   "name": "python3"
  },
  "language_info": {
   "codemirror_mode": {
    "name": "ipython",
    "version": 3
   },
   "file_extension": ".py",
   "mimetype": "text/x-python",
   "name": "python",
   "nbconvert_exporter": "python",
   "pygments_lexer": "ipython3",
   "version": "3.12.9"
  }
 },
 "nbformat": 4,
 "nbformat_minor": 5
}
