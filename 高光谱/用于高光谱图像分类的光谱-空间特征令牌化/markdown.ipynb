{
 "cells": [
  {
   "cell_type": "markdown",
   "id": "64d1dd07",
   "metadata": {},
   "source": [
    "# 用于高光谱图像分类的光谱-空间特征令牌化"
   ]
  },
  {
   "cell_type": "markdown",
   "id": "ec7a4216",
   "metadata": {},
   "source": [
    "<font color=\"green\">\n",
    "什么是令牌化:将卷积层提取到的光谱-空间特征转换为语义令牌的过程,核心是通过特定的特征矩阵和变换操作,将高维特征映射到具有语义信息的低维令牌序列中以便于transformer编码器处理\n",
    "</font>"
   ]
  },
  {
   "cell_type": "markdown",
   "id": "c809049d",
   "metadata": {},
   "source": [
    "# 第一遍:\n",
    "## 模型创新:\n",
    "1.层级化光谱-空间特征提取模块<br>\n",
    "2.高斯加权特征令牌化器<br>\n",
    "3.transformer编码器与令牌融合<br>\n",
    "4.轻量级网络设计<br>\n",
    "## 模型优势:\n",
    "1.分类性能优异:三个数据集上,总体精度(OA),平均精度(AA),Kappa系数均优于其他主流方法"
   ]
  },
  {
   "cell_type": "markdown",
   "id": "7476706e",
   "metadata": {},
   "source": [
    "<font color=\"green\">\n",
    "什么是OA:所有被正确分类的样本数占总样本数的比例<br>\n",
    "什么是AA:分别计算背对每个类别分类的精度再取平均值<br>\n",
    "</font>"
   ]
  },
  {
   "cell_type": "markdown",
   "id": "bdddd7d2",
   "metadata": {},
   "source": [
    "<font color=\"red\">\n",
    "什么是kappa系数:考虑随机因素对分类结果的影响,kappa系数是一个-1到1之间的数,其值接近1说明分类结果与真实标签一致性极高,分类性能优异,接近于0说明分类效果接近于随机分类,接近于-1说明分类效果比随机分类效果差\n",
    "</font>"
   ]
  },
  {
   "cell_type": "markdown",
   "id": "d061be89",
   "metadata": {},
   "source": [
    "2.计算效率高:训练时间和测试时间显著低于其他方法"
   ]
  },
  {
   "cell_type": "markdown",
   "id": "ad08e0ee",
   "metadata": {},
   "source": [
    "3.对小样本和不平衡数据的鲁棒性"
   ]
  },
  {
   "cell_type": "markdown",
   "id": "4cef3655",
   "metadata": {},
   "source": [
    "4.空间与光谱信息的高效融合"
   ]
  },
  {
   "cell_type": "markdown",
   "id": "e81c0011",
   "metadata": {},
   "source": [
    "# 第二遍\n",
    "## step1:数据读入\n"
   ]
  },
  {
   "cell_type": "markdown",
   "id": "72d7af44",
   "metadata": {},
   "source": [
    "<img src=\"屏幕截图 2025-07-10 142714.png\" width=\"300px\">"
   ]
  },
  {
   "cell_type": "markdown",
   "id": "c5ee72c5",
   "metadata": {},
   "source": [
    "- 输入一个$m \\times n \\times l$的HSI图像,经过主成分分析后将光谱维数由l降为b\n",
    "- 将分析后的结果打碎成块传入3D卷积层假设卷积核个数为k0,就获得k0个新的特征图\n",
    "- 将3D卷积后的特征图沿着光谱维的方向重排后传入2D卷积层假设2D卷积层有$k0'$个卷积核,则再生成k0'个特征图\n",
    "- 需要注意的是,3d卷积的特征重排不是简单的图片叠加"
   ]
  },
  {
   "cell_type": "markdown",
   "id": "1482998f",
   "metadata": {},
   "source": [
    "- 数据流动\n",
    "- 原始高光谱图像:$I \\in \\mathbb{R}^{m\\times n \\times l}$,$M \\times n$是空间尺寸,l是光谱波段数\n",
    "- 经过pca:$I \\in \\mathbb{R}^{m\\times n \\times b} $ b是自主选取的特征值最大的前b个波段\n",
    "- 经过3d-patch-提取:$I \\in \\mathbb{R}^{s \\times s \\times b} $,其中,对于边缘像素,进行填充操作\n",
    "- 3d卷积处理:假设每个3d核大小为$k_1 \\times k_2 \\times k_3 $则卷积后的的特征立方体大小为$(s-k_1+1) \\times (s-k_2+1) \\times (b-k_3+1)$\n",
    "- 重排操作:对3d卷积层生成的特征方块进行重排,变为$(s-k_1+1) \\times (s-k_2+1) \\times k_0(b-k_3+1)$其中$k_0$是卷积核个数"
   ]
  },
  {
   "cell_type": "markdown",
   "id": "b00ced77",
   "metadata": {},
   "source": [
    "## step2:高斯加权特征令牌化器\n",
    "<img src=\"屏幕截图 2025-07-16 223904.png\" width=\"300px\"><br>\n",
    "- 两层卷积层生成的特征图无法充分描述地物特征,于是将特征图定义为语义标记.\n",
    "- 原输出图为$X\\in \\mathbb{R}^{u\\times v \\times z}$\n",
    "- 输入高斯加权特征化令牌器的扁平化特征图为$X \\in \\mathbb{R}^{uv\\times z}$\n",
    "- 其中,uv是空间维度,z是光谱维度\n",
    "- 特征标记被定义为T,T由如下运算得到\n",
    "$$T=\\underbrace{softmax(XW_a)^T}_AX $$"
   ]
  },
  {
   "cell_type": "markdown",
   "id": "d22ba676",
   "metadata": {},
   "source": [
    "<font color=\"red\">Q: $ W_a $ 是什么,怎么生成的,作用是什么 </font>\n",
    "<font color=\"green\">A:$w_a$是以高斯分布进行初始化的,其作用是1.将特征图映射到语义组2.增强样本可分性</font>"
   ]
  },
  {
   "cell_type": "markdown",
   "id": "e8524ce2",
   "metadata": {},
   "source": [
    "## step3:transformer编码器模块\n",
    "<img src=\"屏幕截图 2025-07-16 224221.png\" width=\"300px\"><br>\n",
    "### 1.输入处理:语义token与位置嵌入\n",
    "- 模块的输入是高斯加权特征令牌化器生成的$T \\in \\mathbb{R}^{\\omega \\times z} $\n",
    "- 为实现最终分类,在语义token前添加可以学习的分类token $T^{cls}_0$\n",
    "- 位置嵌入:添加位置编码表述空间关系\n",
    "### 2.多头自注意力机制与MLP\n",
    "- 自注意力:计算qkv矩阵以捕捉token之间的依赖关系\n",
    "- 多头自注意力机制:将QKV通过不同的权重矩阵进行SA,可以获得在不同语义之间的关联关系\n",
    "- 对于MSA的输出,将其输入全连接层对于其输出的序列$T_{out}$,取第一个token作为分类特征向量(对应$T_0^{cls}$)"
   ]
  }
 ],
 "metadata": {
  "language_info": {
   "name": "python"
  }
 },
 "nbformat": 4,
 "nbformat_minor": 5
}
