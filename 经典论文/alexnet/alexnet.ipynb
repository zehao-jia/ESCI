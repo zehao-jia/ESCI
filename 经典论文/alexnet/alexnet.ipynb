{
 "cells": [
  {
   "cell_type": "markdown",
   "id": "cb0829b1",
   "metadata": {},
   "source": [
    "# 第一遍\n",
    "## 摘要\n",
    "- 做了什么:大而深的卷积神经网络\n",
    "- 结果很好:top-5测试率15.3,第二名26.2\n",
    "\n",
    "## 结论(这篇是讨论,没结论)\n",
    "- 去掉层数,正确会降->深度会影响模型效果\n",
    "- alexnet出现前主要关注无监督学习\n",
    "\n",
    "## 图表\n",
    "- 从效果来看,学习出来的向量在语义空间表示的效果特别好"
   ]
  },
  {
   "cell_type": "markdown",
   "id": "82584c19",
   "metadata": {},
   "source": [
    "# 第二遍\n",
    "## 介绍(introduction)\n",
    "深度学习的目前观点:训练更大的模型,更多的数据,避免过拟合<br>\n",
    "- 2.用cnn做图像识别,应对大批量数据\n",
    "- 3.cnn好,但训练不动\n",
    "- 4.paper的贡献:新的模型,性能更好,新的不常见的特性\n",
    "## 数据集\n",
    "- 1500万的数据,22000类\n",
    "- end to end :没有进行特征提取(随后被发现十分重要)\n",
    "## 网络架构\n",
    "- 使用非饱和的relu函数->训练快(实际上没有好太多)\n",
    "- 使用多个gpu训练\n",
    "- pooling层\n",
    "- 总体架构:5conv,3fc,1softmax\n",
    "- 卷积过程中,语义层丰富\n",
    "- 多个gpu训练(并行训练)\n",
    "## 如何降低过拟合\n",
    "- 数据增强(data augmentation)\n",
    "- dropout:随机把某些层输出变为0\n",
    "## 训练内容\n",
    "- sgd:随机梯度下降\n",
    "- weight decay:L2正则项(给予动量)\n",
    "- 初始化"
   ]
  },
  {
   "cell_type": "markdown",
   "id": "66543020",
   "metadata": {},
   "source": [
    "# 总结\n",
    "- 解决的问题(创新点):使用CNN分类图像,不进行特征提取\n"
   ]
  }
 ],
 "metadata": {
  "language_info": {
   "name": "python"
  }
 },
 "nbformat": 4,
 "nbformat_minor": 5
}
